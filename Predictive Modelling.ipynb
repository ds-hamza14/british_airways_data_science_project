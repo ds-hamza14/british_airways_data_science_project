{
 "cells": [
  {
   "cell_type": "markdown",
   "id": "c344f267",
   "metadata": {},
   "source": [
    "# Predictive modeling of customer bookings\n",
    "\n",
    "\n",
    "## Exploratory data analysis\n",
    "\n",
    "First, we must explore the data in order to better understand what we have and the statistical properties of the dataset."
   ]
  },
  {
   "cell_type": "code",
   "execution_count": 1,
   "id": "b6e83661",
   "metadata": {},
   "outputs": [],
   "source": [
    "# Libraries required for visaulization\n",
    "import matplotlib.pyplot as plt \n",
    "import seaborn as sns\n",
    "#Libraries required for data importing and data manupulation\n",
    "import numpy as np \n",
    "import pandas as pd \n",
    "import math\n",
    "#  Libraries required for Data Pre-processing and transformation\n",
    "import  scipy.signal.signaltools\n",
    "\n",
    "def _centered(arr, newsize):\n",
    "    # Return the center newsize portion of the array.\n",
    "    newsize = np.asarray(newsize)\n",
    "    currsize = np.array(arr.shape)\n",
    "    startind = (currsize - newsize) // 2\n",
    "    endind = startind + newsize\n",
    "    myslice = [slice(startind[k], endind[k]) for k in range(len(endind))]\n",
    "    return arr[tuple(myslice)]\n",
    "\n",
    "scipy.signal.signaltools._centered = _centered\n",
    "import statsmodels.api as sm\n",
    "from scipy import stats\n",
    "from sklearn.model_selection import train_test_split\n",
    "import scikitplot as skplt\n",
    "from sklearn.ensemble import RandomForestClassifier, RandomForestRegressor, GradientBoostingClassifier, ExtraTreesClassifier\n",
    "from sklearn.linear_model import LinearRegression, LogisticRegression\n",
    "\n",
    "#Data pre processing\n",
    "import category_encoders\n",
    "from category_encoders import TargetEncoder\n",
    "from sklearn.preprocessing import StandardScaler \n"
   ]
  },
  {
   "cell_type": "code",
   "execution_count": 2,
   "id": "89e7a2ab",
   "metadata": {},
   "outputs": [
    {
     "data": {
      "text/html": [
       "<div>\n",
       "<style scoped>\n",
       "    .dataframe tbody tr th:only-of-type {\n",
       "        vertical-align: middle;\n",
       "    }\n",
       "\n",
       "    .dataframe tbody tr th {\n",
       "        vertical-align: top;\n",
       "    }\n",
       "\n",
       "    .dataframe thead th {\n",
       "        text-align: right;\n",
       "    }\n",
       "</style>\n",
       "<table border=\"1\" class=\"dataframe\">\n",
       "  <thead>\n",
       "    <tr style=\"text-align: right;\">\n",
       "      <th></th>\n",
       "      <th>num_passengers</th>\n",
       "      <th>sales_channel</th>\n",
       "      <th>trip_type</th>\n",
       "      <th>purchase_lead</th>\n",
       "      <th>length_of_stay</th>\n",
       "      <th>flight_hour</th>\n",
       "      <th>flight_day</th>\n",
       "      <th>route</th>\n",
       "      <th>booking_origin</th>\n",
       "      <th>wants_extra_baggage</th>\n",
       "      <th>wants_preferred_seat</th>\n",
       "      <th>wants_in_flight_meals</th>\n",
       "      <th>flight_duration</th>\n",
       "      <th>booking_complete</th>\n",
       "    </tr>\n",
       "  </thead>\n",
       "  <tbody>\n",
       "    <tr>\n",
       "      <th>0</th>\n",
       "      <td>2</td>\n",
       "      <td>Internet</td>\n",
       "      <td>RoundTrip</td>\n",
       "      <td>262</td>\n",
       "      <td>19</td>\n",
       "      <td>7</td>\n",
       "      <td>Sat</td>\n",
       "      <td>AKLDEL</td>\n",
       "      <td>New Zealand</td>\n",
       "      <td>1</td>\n",
       "      <td>0</td>\n",
       "      <td>0</td>\n",
       "      <td>5.52</td>\n",
       "      <td>0</td>\n",
       "    </tr>\n",
       "    <tr>\n",
       "      <th>1</th>\n",
       "      <td>1</td>\n",
       "      <td>Internet</td>\n",
       "      <td>RoundTrip</td>\n",
       "      <td>112</td>\n",
       "      <td>20</td>\n",
       "      <td>3</td>\n",
       "      <td>Sat</td>\n",
       "      <td>AKLDEL</td>\n",
       "      <td>New Zealand</td>\n",
       "      <td>0</td>\n",
       "      <td>0</td>\n",
       "      <td>0</td>\n",
       "      <td>5.52</td>\n",
       "      <td>0</td>\n",
       "    </tr>\n",
       "    <tr>\n",
       "      <th>2</th>\n",
       "      <td>2</td>\n",
       "      <td>Internet</td>\n",
       "      <td>RoundTrip</td>\n",
       "      <td>243</td>\n",
       "      <td>22</td>\n",
       "      <td>17</td>\n",
       "      <td>Wed</td>\n",
       "      <td>AKLDEL</td>\n",
       "      <td>India</td>\n",
       "      <td>1</td>\n",
       "      <td>1</td>\n",
       "      <td>0</td>\n",
       "      <td>5.52</td>\n",
       "      <td>0</td>\n",
       "    </tr>\n",
       "    <tr>\n",
       "      <th>3</th>\n",
       "      <td>1</td>\n",
       "      <td>Internet</td>\n",
       "      <td>RoundTrip</td>\n",
       "      <td>96</td>\n",
       "      <td>31</td>\n",
       "      <td>4</td>\n",
       "      <td>Sat</td>\n",
       "      <td>AKLDEL</td>\n",
       "      <td>New Zealand</td>\n",
       "      <td>0</td>\n",
       "      <td>0</td>\n",
       "      <td>1</td>\n",
       "      <td>5.52</td>\n",
       "      <td>0</td>\n",
       "    </tr>\n",
       "    <tr>\n",
       "      <th>4</th>\n",
       "      <td>2</td>\n",
       "      <td>Internet</td>\n",
       "      <td>RoundTrip</td>\n",
       "      <td>68</td>\n",
       "      <td>22</td>\n",
       "      <td>15</td>\n",
       "      <td>Wed</td>\n",
       "      <td>AKLDEL</td>\n",
       "      <td>India</td>\n",
       "      <td>1</td>\n",
       "      <td>0</td>\n",
       "      <td>1</td>\n",
       "      <td>5.52</td>\n",
       "      <td>0</td>\n",
       "    </tr>\n",
       "  </tbody>\n",
       "</table>\n",
       "</div>"
      ],
      "text/plain": [
       "   num_passengers sales_channel  trip_type  purchase_lead  length_of_stay  \\\n",
       "0               2      Internet  RoundTrip            262              19   \n",
       "1               1      Internet  RoundTrip            112              20   \n",
       "2               2      Internet  RoundTrip            243              22   \n",
       "3               1      Internet  RoundTrip             96              31   \n",
       "4               2      Internet  RoundTrip             68              22   \n",
       "\n",
       "   flight_hour flight_day   route booking_origin  wants_extra_baggage  \\\n",
       "0            7        Sat  AKLDEL    New Zealand                    1   \n",
       "1            3        Sat  AKLDEL    New Zealand                    0   \n",
       "2           17        Wed  AKLDEL          India                    1   \n",
       "3            4        Sat  AKLDEL    New Zealand                    0   \n",
       "4           15        Wed  AKLDEL          India                    1   \n",
       "\n",
       "   wants_preferred_seat  wants_in_flight_meals  flight_duration  \\\n",
       "0                     0                      0             5.52   \n",
       "1                     0                      0             5.52   \n",
       "2                     1                      0             5.52   \n",
       "3                     0                      1             5.52   \n",
       "4                     0                      1             5.52   \n",
       "\n",
       "   booking_complete  \n",
       "0                 0  \n",
       "1                 0  \n",
       "2                 0  \n",
       "3                 0  \n",
       "4                 0  "
      ]
     },
     "execution_count": 2,
     "metadata": {},
     "output_type": "execute_result"
    }
   ],
   "source": [
    "df = pd.read_csv(\"data/customer_booking.csv\", encoding=\"ISO-8859-1\")\n",
    "df.head()"
   ]
  },
  {
   "cell_type": "markdown",
   "id": "2a734626",
   "metadata": {},
   "source": [
    "### Descriptive Statistics\n",
    "\n",
    "For understanding the variables we use descriptive statistics to compute the measures of central tendency like count, minimum, maximum, mean , mode and measures of dispersion like standard deviation, quartiles, etc which explains the spread of the variables."
   ]
  },
  {
   "cell_type": "code",
   "execution_count": 3,
   "id": "7e0b97ac",
   "metadata": {},
   "outputs": [
    {
     "name": "stdout",
     "output_type": "stream",
     "text": [
      "<class 'pandas.core.frame.DataFrame'>\n",
      "RangeIndex: 50000 entries, 0 to 49999\n",
      "Data columns (total 14 columns):\n",
      " #   Column                 Non-Null Count  Dtype  \n",
      "---  ------                 --------------  -----  \n",
      " 0   num_passengers         50000 non-null  int64  \n",
      " 1   sales_channel          50000 non-null  object \n",
      " 2   trip_type              50000 non-null  object \n",
      " 3   purchase_lead          50000 non-null  int64  \n",
      " 4   length_of_stay         50000 non-null  int64  \n",
      " 5   flight_hour            50000 non-null  int64  \n",
      " 6   flight_day             50000 non-null  object \n",
      " 7   route                  50000 non-null  object \n",
      " 8   booking_origin         50000 non-null  object \n",
      " 9   wants_extra_baggage    50000 non-null  int64  \n",
      " 10  wants_preferred_seat   50000 non-null  int64  \n",
      " 11  wants_in_flight_meals  50000 non-null  int64  \n",
      " 12  flight_duration        50000 non-null  float64\n",
      " 13  booking_complete       50000 non-null  int64  \n",
      "dtypes: float64(1), int64(8), object(5)\n",
      "memory usage: 5.3+ MB\n"
     ]
    }
   ],
   "source": [
    "df.info()"
   ]
  },
  {
   "cell_type": "markdown",
   "id": "b1436355",
   "metadata": {},
   "source": [
    "We assign a number to the days of the week"
   ]
  },
  {
   "cell_type": "code",
   "execution_count": 4,
   "id": "853a13fa",
   "metadata": {},
   "outputs": [
    {
     "data": {
      "text/plain": [
       "array(['Sat', 'Wed', 'Thu', 'Mon', 'Sun', 'Tue', 'Fri'], dtype=object)"
      ]
     },
     "execution_count": 4,
     "metadata": {},
     "output_type": "execute_result"
    }
   ],
   "source": [
    "df[\"flight_day\"].unique()"
   ]
  },
  {
   "cell_type": "code",
   "execution_count": 5,
   "id": "77ea1af3",
   "metadata": {},
   "outputs": [
    {
     "data": {
      "text/html": [
       "<div>\n",
       "<style scoped>\n",
       "    .dataframe tbody tr th:only-of-type {\n",
       "        vertical-align: middle;\n",
       "    }\n",
       "\n",
       "    .dataframe tbody tr th {\n",
       "        vertical-align: top;\n",
       "    }\n",
       "\n",
       "    .dataframe thead th {\n",
       "        text-align: right;\n",
       "    }\n",
       "</style>\n",
       "<table border=\"1\" class=\"dataframe\">\n",
       "  <thead>\n",
       "    <tr style=\"text-align: right;\">\n",
       "      <th></th>\n",
       "      <th>num_passengers</th>\n",
       "      <th>purchase_lead</th>\n",
       "      <th>length_of_stay</th>\n",
       "      <th>flight_hour</th>\n",
       "      <th>flight_day</th>\n",
       "      <th>wants_extra_baggage</th>\n",
       "      <th>wants_preferred_seat</th>\n",
       "      <th>wants_in_flight_meals</th>\n",
       "      <th>flight_duration</th>\n",
       "      <th>booking_complete</th>\n",
       "    </tr>\n",
       "  </thead>\n",
       "  <tbody>\n",
       "    <tr>\n",
       "      <th>count</th>\n",
       "      <td>50000.000000</td>\n",
       "      <td>50000.000000</td>\n",
       "      <td>50000.00000</td>\n",
       "      <td>50000.00000</td>\n",
       "      <td>50000.000000</td>\n",
       "      <td>50000.000000</td>\n",
       "      <td>50000.000000</td>\n",
       "      <td>50000.000000</td>\n",
       "      <td>50000.000000</td>\n",
       "      <td>50000.000000</td>\n",
       "    </tr>\n",
       "    <tr>\n",
       "      <th>mean</th>\n",
       "      <td>1.591240</td>\n",
       "      <td>84.940480</td>\n",
       "      <td>23.04456</td>\n",
       "      <td>9.06634</td>\n",
       "      <td>3.814420</td>\n",
       "      <td>0.668780</td>\n",
       "      <td>0.296960</td>\n",
       "      <td>0.427140</td>\n",
       "      <td>7.277561</td>\n",
       "      <td>0.149560</td>\n",
       "    </tr>\n",
       "    <tr>\n",
       "      <th>std</th>\n",
       "      <td>1.020165</td>\n",
       "      <td>90.451378</td>\n",
       "      <td>33.88767</td>\n",
       "      <td>5.41266</td>\n",
       "      <td>1.992792</td>\n",
       "      <td>0.470657</td>\n",
       "      <td>0.456923</td>\n",
       "      <td>0.494668</td>\n",
       "      <td>1.496863</td>\n",
       "      <td>0.356643</td>\n",
       "    </tr>\n",
       "    <tr>\n",
       "      <th>min</th>\n",
       "      <td>1.000000</td>\n",
       "      <td>0.000000</td>\n",
       "      <td>0.00000</td>\n",
       "      <td>0.00000</td>\n",
       "      <td>1.000000</td>\n",
       "      <td>0.000000</td>\n",
       "      <td>0.000000</td>\n",
       "      <td>0.000000</td>\n",
       "      <td>4.670000</td>\n",
       "      <td>0.000000</td>\n",
       "    </tr>\n",
       "    <tr>\n",
       "      <th>25%</th>\n",
       "      <td>1.000000</td>\n",
       "      <td>21.000000</td>\n",
       "      <td>5.00000</td>\n",
       "      <td>5.00000</td>\n",
       "      <td>2.000000</td>\n",
       "      <td>0.000000</td>\n",
       "      <td>0.000000</td>\n",
       "      <td>0.000000</td>\n",
       "      <td>5.620000</td>\n",
       "      <td>0.000000</td>\n",
       "    </tr>\n",
       "    <tr>\n",
       "      <th>50%</th>\n",
       "      <td>1.000000</td>\n",
       "      <td>51.000000</td>\n",
       "      <td>17.00000</td>\n",
       "      <td>9.00000</td>\n",
       "      <td>4.000000</td>\n",
       "      <td>1.000000</td>\n",
       "      <td>0.000000</td>\n",
       "      <td>0.000000</td>\n",
       "      <td>7.570000</td>\n",
       "      <td>0.000000</td>\n",
       "    </tr>\n",
       "    <tr>\n",
       "      <th>75%</th>\n",
       "      <td>2.000000</td>\n",
       "      <td>115.000000</td>\n",
       "      <td>28.00000</td>\n",
       "      <td>13.00000</td>\n",
       "      <td>5.000000</td>\n",
       "      <td>1.000000</td>\n",
       "      <td>1.000000</td>\n",
       "      <td>1.000000</td>\n",
       "      <td>8.830000</td>\n",
       "      <td>0.000000</td>\n",
       "    </tr>\n",
       "    <tr>\n",
       "      <th>max</th>\n",
       "      <td>9.000000</td>\n",
       "      <td>867.000000</td>\n",
       "      <td>778.00000</td>\n",
       "      <td>23.00000</td>\n",
       "      <td>7.000000</td>\n",
       "      <td>1.000000</td>\n",
       "      <td>1.000000</td>\n",
       "      <td>1.000000</td>\n",
       "      <td>9.500000</td>\n",
       "      <td>1.000000</td>\n",
       "    </tr>\n",
       "  </tbody>\n",
       "</table>\n",
       "</div>"
      ],
      "text/plain": [
       "       num_passengers  purchase_lead  length_of_stay  flight_hour  \\\n",
       "count    50000.000000   50000.000000     50000.00000  50000.00000   \n",
       "mean         1.591240      84.940480        23.04456      9.06634   \n",
       "std          1.020165      90.451378        33.88767      5.41266   \n",
       "min          1.000000       0.000000         0.00000      0.00000   \n",
       "25%          1.000000      21.000000         5.00000      5.00000   \n",
       "50%          1.000000      51.000000        17.00000      9.00000   \n",
       "75%          2.000000     115.000000        28.00000     13.00000   \n",
       "max          9.000000     867.000000       778.00000     23.00000   \n",
       "\n",
       "         flight_day  wants_extra_baggage  wants_preferred_seat  \\\n",
       "count  50000.000000         50000.000000          50000.000000   \n",
       "mean       3.814420             0.668780              0.296960   \n",
       "std        1.992792             0.470657              0.456923   \n",
       "min        1.000000             0.000000              0.000000   \n",
       "25%        2.000000             0.000000              0.000000   \n",
       "50%        4.000000             1.000000              0.000000   \n",
       "75%        5.000000             1.000000              1.000000   \n",
       "max        7.000000             1.000000              1.000000   \n",
       "\n",
       "       wants_in_flight_meals  flight_duration  booking_complete  \n",
       "count           50000.000000     50000.000000      50000.000000  \n",
       "mean                0.427140         7.277561          0.149560  \n",
       "std                 0.494668         1.496863          0.356643  \n",
       "min                 0.000000         4.670000          0.000000  \n",
       "25%                 0.000000         5.620000          0.000000  \n",
       "50%                 0.000000         7.570000          0.000000  \n",
       "75%                 1.000000         8.830000          0.000000  \n",
       "max                 1.000000         9.500000          1.000000  "
      ]
     },
     "execution_count": 5,
     "metadata": {},
     "output_type": "execute_result"
    }
   ],
   "source": [
    "mapping = {\n",
    "    \"Mon\": 1,\n",
    "    \"Tue\": 2,\n",
    "    \"Wed\": 3,\n",
    "    \"Thu\": 4,\n",
    "    \"Fri\": 5,\n",
    "    \"Sat\": 6,\n",
    "    \"Sun\": 7,\n",
    "}\n",
    "\n",
    "df[\"flight_day\"] = df[\"flight_day\"].map(mapping)\n",
    "df.describe()"
   ]
  },
  {
   "cell_type": "markdown",
   "id": "80d807e2",
   "metadata": {},
   "source": [
    "As sales_channel, trip_type, route and booking_origin are categorical variables, we compute mode to see the most frequent observation"
   ]
  },
  {
   "cell_type": "code",
   "execution_count": 6,
   "id": "8d53440d",
   "metadata": {},
   "outputs": [
    {
     "name": "stdout",
     "output_type": "stream",
     "text": [
      "mode of sales_channel = Internet\n",
      "mode of trip_type = RoundTrip\n",
      "mode of route = AKLKUL\n",
      "mode of booking_origin = Australia\n"
     ]
    }
   ],
   "source": [
    "mode1 = df.sales_channel.mode()[0]\n",
    "mode2 = df.trip_type.mode()[0]\n",
    "mode3 = df.route.mode()[0] \n",
    "mode4 = df.booking_origin.mode()[0]\n",
    "\n",
    "print(f\"mode of sales_channel = {mode1}\")\n",
    "print(f\"mode of trip_type = {mode2}\")\n",
    "print(f\"mode of route = {mode3}\")\n",
    "print(f\"mode of booking_origin = {mode4}\")"
   ]
  },
  {
   "cell_type": "markdown",
   "id": "b41d5844",
   "metadata": {},
   "source": [
    "So here we can see that most of the booking searches were done through Internet, most of the trips were RoundTrip, most of routes were Aukland to Kuala Lumpur and most of the booking origins were Australia."
   ]
  },
  {
   "cell_type": "markdown",
   "id": "dd8308d6",
   "metadata": {},
   "source": [
    "### Univariate Analysis\n",
    "\n",
    "We start by visualising a single variable.\n",
    "\n",
    "We have used Count plots for representing the categorical variables and boxplot for representing the continuous variables."
   ]
  },
  {
   "cell_type": "code",
   "execution_count": 7,
   "id": "bf907024",
   "metadata": {},
   "outputs": [
    {
     "data": {
      "image/png": "[encoded data removed]",
      "text/plain": [
       "<Figure size 432x288 with 1 Axes>"
      ]
     },
     "metadata": {
      "needs_background": "light"
     },
     "output_type": "display_data"
    }
   ],
   "source": [
    "from matplotlib.pyplot import figure \n",
    "sns.set_palette(\"BuPu\")\n",
    "#Setting figure dimensions figure(figsize=(6, 4), dpi=100) #Plotting boxplot\n",
    "sns.boxplot(x = 'flight_duration', data = df) \n",
    "plt.show()\n",
    "plt.close()"
   ]
  },
  {
   "cell_type": "code",
   "execution_count": 8,
   "id": "18c49ed2",
   "metadata": {},
   "outputs": [
    {
     "data": {
      "text/plain": [
       "[Text(0, 0, 'Incomplete'), Text(0, 1, 'Complete')]"
      ]
     },
     "execution_count": 8,
     "metadata": {},
     "output_type": "execute_result"
    },
    {
     "data": {
      "image/png": "[encoded data removed]",
      "text/plain": [
       "<Figure size 432x288 with 1 Axes>"
      ]
     },
     "metadata": {
      "needs_background": "light"
     },
     "output_type": "display_data"
    }
   ],
   "source": [
    "#Plotting the countplot using seaborn\n",
    "ax = sns.countplot(y=df['booking_complete'],palette=['#db3d13',\"#008080\"]) \n",
    "ax.set_title('Bookings')\n",
    "ax.set_yticklabels(['Incomplete','Complete'])"
   ]
  },
  {
   "cell_type": "markdown",
   "id": "92eac740",
   "metadata": {},
   "source": [
    "### Bivariate Analysis\n",
    "\n",
    "Bivariate Analysis is the analysis between two variables to determine the relationship between them.\n",
    "Box-plots, scatter plots, stacked bar plots, line graphs are majorly used for visualization of the data."
   ]
  },
  {
   "cell_type": "code",
   "execution_count": 9,
   "id": "8988e716",
   "metadata": {},
   "outputs": [
    {
     "data": {
      "image/png": "[encoded data removed]",
      "text/plain": [
       "<Figure size 432x288 with 1 Axes>"
      ]
     },
     "metadata": {
      "needs_background": "light"
     },
     "output_type": "display_data"
    }
   ],
   "source": [
    "sns.set_palette(\"Reds_r\")\n",
    "contingency_table = pd.crosstab(df['trip_type'], df['booking_complete'])\n",
    "# plotting the above contingency table\n",
    "axy=contingency_table.plot(kind=\"bar\", stacked = True, rot = 0)"
   ]
  },
  {
   "cell_type": "code",
   "execution_count": 10,
   "id": "9ef50d2b",
   "metadata": {},
   "outputs": [
    {
     "data": {
      "text/plain": [
       "num_passengers           0\n",
       "sales_channel            0\n",
       "trip_type                0\n",
       "purchase_lead            0\n",
       "length_of_stay           0\n",
       "flight_hour              0\n",
       "flight_day               0\n",
       "route                    0\n",
       "booking_origin           0\n",
       "wants_extra_baggage      0\n",
       "wants_preferred_seat     0\n",
       "wants_in_flight_meals    0\n",
       "flight_duration          0\n",
       "booking_complete         0\n",
       "dtype: int64"
      ]
     },
     "execution_count": 10,
     "metadata": {},
     "output_type": "execute_result"
    }
   ],
   "source": [
    "#Replacing the values by nan\n",
    "df.replace('Data missing or out of range', np.nan, inplace=True)\n",
    "#verifying the number of missing/null values in our dataset\n",
    "df.isna().sum()"
   ]
  },
  {
   "cell_type": "markdown",
   "id": "bbcaf526",
   "metadata": {},
   "source": [
    "### Target Encoding\n",
    "\n",
    "Target encoding is great for: High-cardinality features: A feature with a large number of categories can be troublesome to encode: a one-hot encoding would generate too many features and alternatives, like a label encoding, might not be appropriate for that feature.\n",
    "\n",
    "Over here, booking_origin and route have large number of categories"
   ]
  },
  {
   "cell_type": "code",
   "execution_count": 11,
   "id": "ee8cc6fa",
   "metadata": {},
   "outputs": [
    {
     "data": {
      "text/html": [
       "<div>\n",
       "<style scoped>\n",
       "    .dataframe tbody tr th:only-of-type {\n",
       "        vertical-align: middle;\n",
       "    }\n",
       "\n",
       "    .dataframe tbody tr th {\n",
       "        vertical-align: top;\n",
       "    }\n",
       "\n",
       "    .dataframe thead th {\n",
       "        text-align: right;\n",
       "    }\n",
       "</style>\n",
       "<table border=\"1\" class=\"dataframe\">\n",
       "  <thead>\n",
       "    <tr style=\"text-align: right;\">\n",
       "      <th></th>\n",
       "      <th>num_passengers</th>\n",
       "      <th>sales_channel</th>\n",
       "      <th>trip_type</th>\n",
       "      <th>purchase_lead</th>\n",
       "      <th>length_of_stay</th>\n",
       "      <th>flight_hour</th>\n",
       "      <th>flight_day</th>\n",
       "      <th>route</th>\n",
       "      <th>booking_origin</th>\n",
       "      <th>wants_extra_baggage</th>\n",
       "      <th>wants_preferred_seat</th>\n",
       "      <th>wants_in_flight_meals</th>\n",
       "      <th>flight_duration</th>\n",
       "      <th>booking_complete</th>\n",
       "    </tr>\n",
       "  </thead>\n",
       "  <tbody>\n",
       "    <tr>\n",
       "      <th>0</th>\n",
       "      <td>2</td>\n",
       "      <td>Internet</td>\n",
       "      <td>RoundTrip</td>\n",
       "      <td>262</td>\n",
       "      <td>19</td>\n",
       "      <td>7</td>\n",
       "      <td>6</td>\n",
       "      <td>0.07478</td>\n",
       "      <td>0.050279</td>\n",
       "      <td>1</td>\n",
       "      <td>0</td>\n",
       "      <td>0</td>\n",
       "      <td>5.52</td>\n",
       "      <td>0</td>\n",
       "    </tr>\n",
       "    <tr>\n",
       "      <th>1</th>\n",
       "      <td>1</td>\n",
       "      <td>Internet</td>\n",
       "      <td>RoundTrip</td>\n",
       "      <td>112</td>\n",
       "      <td>20</td>\n",
       "      <td>3</td>\n",
       "      <td>6</td>\n",
       "      <td>0.07478</td>\n",
       "      <td>0.050279</td>\n",
       "      <td>0</td>\n",
       "      <td>0</td>\n",
       "      <td>0</td>\n",
       "      <td>5.52</td>\n",
       "      <td>0</td>\n",
       "    </tr>\n",
       "    <tr>\n",
       "      <th>2</th>\n",
       "      <td>2</td>\n",
       "      <td>Internet</td>\n",
       "      <td>RoundTrip</td>\n",
       "      <td>243</td>\n",
       "      <td>22</td>\n",
       "      <td>17</td>\n",
       "      <td>3</td>\n",
       "      <td>0.07478</td>\n",
       "      <td>0.103150</td>\n",
       "      <td>1</td>\n",
       "      <td>1</td>\n",
       "      <td>0</td>\n",
       "      <td>5.52</td>\n",
       "      <td>0</td>\n",
       "    </tr>\n",
       "    <tr>\n",
       "      <th>3</th>\n",
       "      <td>1</td>\n",
       "      <td>Internet</td>\n",
       "      <td>RoundTrip</td>\n",
       "      <td>96</td>\n",
       "      <td>31</td>\n",
       "      <td>4</td>\n",
       "      <td>6</td>\n",
       "      <td>0.07478</td>\n",
       "      <td>0.050279</td>\n",
       "      <td>0</td>\n",
       "      <td>0</td>\n",
       "      <td>1</td>\n",
       "      <td>5.52</td>\n",
       "      <td>0</td>\n",
       "    </tr>\n",
       "    <tr>\n",
       "      <th>4</th>\n",
       "      <td>2</td>\n",
       "      <td>Internet</td>\n",
       "      <td>RoundTrip</td>\n",
       "      <td>68</td>\n",
       "      <td>22</td>\n",
       "      <td>15</td>\n",
       "      <td>3</td>\n",
       "      <td>0.07478</td>\n",
       "      <td>0.103150</td>\n",
       "      <td>1</td>\n",
       "      <td>0</td>\n",
       "      <td>1</td>\n",
       "      <td>5.52</td>\n",
       "      <td>0</td>\n",
       "    </tr>\n",
       "  </tbody>\n",
       "</table>\n",
       "</div>"
      ],
      "text/plain": [
       "   num_passengers sales_channel  trip_type  purchase_lead  length_of_stay  \\\n",
       "0               2      Internet  RoundTrip            262              19   \n",
       "1               1      Internet  RoundTrip            112              20   \n",
       "2               2      Internet  RoundTrip            243              22   \n",
       "3               1      Internet  RoundTrip             96              31   \n",
       "4               2      Internet  RoundTrip             68              22   \n",
       "\n",
       "   flight_hour  flight_day    route  booking_origin  wants_extra_baggage  \\\n",
       "0            7           6  0.07478        0.050279                    1   \n",
       "1            3           6  0.07478        0.050279                    0   \n",
       "2           17           3  0.07478        0.103150                    1   \n",
       "3            4           6  0.07478        0.050279                    0   \n",
       "4           15           3  0.07478        0.103150                    1   \n",
       "\n",
       "   wants_preferred_seat  wants_in_flight_meals  flight_duration  \\\n",
       "0                     0                      0             5.52   \n",
       "1                     0                      0             5.52   \n",
       "2                     1                      0             5.52   \n",
       "3                     0                      1             5.52   \n",
       "4                     0                      1             5.52   \n",
       "\n",
       "   booking_complete  \n",
       "0                 0  \n",
       "1                 0  \n",
       "2                 0  \n",
       "3                 0  \n",
       "4                 0  "
      ]
     },
     "execution_count": 11,
     "metadata": {},
     "output_type": "execute_result"
    }
   ],
   "source": [
    "encoder = TargetEncoder()\n",
    "df['booking_origin'] = encoder.fit_transform(df['booking_origin'],df['booking_complete'])\n",
    "df['route'] = encoder.fit_transform(df['route'],df['booking_complete'])\n",
    "df.head()"
   ]
  },
  {
   "cell_type": "markdown",
   "id": "a9c7567b",
   "metadata": {},
   "source": [
    "### Encoding rest of the categorical variables\n",
    "\n",
    "We use category encoder to encode sales_channel and trip_type as they don't have large number of categories"
   ]
  },
  {
   "cell_type": "code",
   "execution_count": 12,
   "id": "c7740ef0",
   "metadata": {},
   "outputs": [
    {
     "data": {
      "text/html": [
       "<div>\n",
       "<style scoped>\n",
       "    .dataframe tbody tr th:only-of-type {\n",
       "        vertical-align: middle;\n",
       "    }\n",
       "\n",
       "    .dataframe tbody tr th {\n",
       "        vertical-align: top;\n",
       "    }\n",
       "\n",
       "    .dataframe thead th {\n",
       "        text-align: right;\n",
       "    }\n",
       "</style>\n",
       "<table border=\"1\" class=\"dataframe\">\n",
       "  <thead>\n",
       "    <tr style=\"text-align: right;\">\n",
       "      <th></th>\n",
       "      <th>num_passengers</th>\n",
       "      <th>purchase_lead</th>\n",
       "      <th>length_of_stay</th>\n",
       "      <th>flight_hour</th>\n",
       "      <th>flight_day</th>\n",
       "      <th>route</th>\n",
       "      <th>booking_origin</th>\n",
       "      <th>wants_extra_baggage</th>\n",
       "      <th>wants_preferred_seat</th>\n",
       "      <th>wants_in_flight_meals</th>\n",
       "      <th>flight_duration</th>\n",
       "      <th>booking_complete</th>\n",
       "      <th>Internet</th>\n",
       "      <th>Mobile</th>\n",
       "      <th>CircleTrip</th>\n",
       "      <th>OneWay</th>\n",
       "      <th>RoundTrip</th>\n",
       "    </tr>\n",
       "  </thead>\n",
       "  <tbody>\n",
       "    <tr>\n",
       "      <th>0</th>\n",
       "      <td>2</td>\n",
       "      <td>262</td>\n",
       "      <td>19</td>\n",
       "      <td>7</td>\n",
       "      <td>6</td>\n",
       "      <td>0.07478</td>\n",
       "      <td>0.050279</td>\n",
       "      <td>1</td>\n",
       "      <td>0</td>\n",
       "      <td>0</td>\n",
       "      <td>5.52</td>\n",
       "      <td>0</td>\n",
       "      <td>1</td>\n",
       "      <td>0</td>\n",
       "      <td>0</td>\n",
       "      <td>0</td>\n",
       "      <td>1</td>\n",
       "    </tr>\n",
       "    <tr>\n",
       "      <th>1</th>\n",
       "      <td>1</td>\n",
       "      <td>112</td>\n",
       "      <td>20</td>\n",
       "      <td>3</td>\n",
       "      <td>6</td>\n",
       "      <td>0.07478</td>\n",
       "      <td>0.050279</td>\n",
       "      <td>0</td>\n",
       "      <td>0</td>\n",
       "      <td>0</td>\n",
       "      <td>5.52</td>\n",
       "      <td>0</td>\n",
       "      <td>1</td>\n",
       "      <td>0</td>\n",
       "      <td>0</td>\n",
       "      <td>0</td>\n",
       "      <td>1</td>\n",
       "    </tr>\n",
       "    <tr>\n",
       "      <th>2</th>\n",
       "      <td>2</td>\n",
       "      <td>243</td>\n",
       "      <td>22</td>\n",
       "      <td>17</td>\n",
       "      <td>3</td>\n",
       "      <td>0.07478</td>\n",
       "      <td>0.103150</td>\n",
       "      <td>1</td>\n",
       "      <td>1</td>\n",
       "      <td>0</td>\n",
       "      <td>5.52</td>\n",
       "      <td>0</td>\n",
       "      <td>1</td>\n",
       "      <td>0</td>\n",
       "      <td>0</td>\n",
       "      <td>0</td>\n",
       "      <td>1</td>\n",
       "    </tr>\n",
       "    <tr>\n",
       "      <th>3</th>\n",
       "      <td>1</td>\n",
       "      <td>96</td>\n",
       "      <td>31</td>\n",
       "      <td>4</td>\n",
       "      <td>6</td>\n",
       "      <td>0.07478</td>\n",
       "      <td>0.050279</td>\n",
       "      <td>0</td>\n",
       "      <td>0</td>\n",
       "      <td>1</td>\n",
       "      <td>5.52</td>\n",
       "      <td>0</td>\n",
       "      <td>1</td>\n",
       "      <td>0</td>\n",
       "      <td>0</td>\n",
       "      <td>0</td>\n",
       "      <td>1</td>\n",
       "    </tr>\n",
       "    <tr>\n",
       "      <th>4</th>\n",
       "      <td>2</td>\n",
       "      <td>68</td>\n",
       "      <td>22</td>\n",
       "      <td>15</td>\n",
       "      <td>3</td>\n",
       "      <td>0.07478</td>\n",
       "      <td>0.103150</td>\n",
       "      <td>1</td>\n",
       "      <td>0</td>\n",
       "      <td>1</td>\n",
       "      <td>5.52</td>\n",
       "      <td>0</td>\n",
       "      <td>1</td>\n",
       "      <td>0</td>\n",
       "      <td>0</td>\n",
       "      <td>0</td>\n",
       "      <td>1</td>\n",
       "    </tr>\n",
       "  </tbody>\n",
       "</table>\n",
       "</div>"
      ],
      "text/plain": [
       "   num_passengers  purchase_lead  length_of_stay  flight_hour  flight_day  \\\n",
       "0               2            262              19            7           6   \n",
       "1               1            112              20            3           6   \n",
       "2               2            243              22           17           3   \n",
       "3               1             96              31            4           6   \n",
       "4               2             68              22           15           3   \n",
       "\n",
       "     route  booking_origin  wants_extra_baggage  wants_preferred_seat  \\\n",
       "0  0.07478        0.050279                    1                     0   \n",
       "1  0.07478        0.050279                    0                     0   \n",
       "2  0.07478        0.103150                    1                     1   \n",
       "3  0.07478        0.050279                    0                     0   \n",
       "4  0.07478        0.103150                    1                     0   \n",
       "\n",
       "   wants_in_flight_meals  flight_duration  booking_complete  Internet  Mobile  \\\n",
       "0                      0             5.52                 0         1       0   \n",
       "1                      0             5.52                 0         1       0   \n",
       "2                      0             5.52                 0         1       0   \n",
       "3                      1             5.52                 0         1       0   \n",
       "4                      1             5.52                 0         1       0   \n",
       "\n",
       "   CircleTrip  OneWay  RoundTrip  \n",
       "0           0       0          1  \n",
       "1           0       0          1  \n",
       "2           0       0          1  \n",
       "3           0       0          1  \n",
       "4           0       0          1  "
      ]
     },
     "execution_count": 12,
     "metadata": {},
     "output_type": "execute_result"
    }
   ],
   "source": [
    "encoded_column = pd.get_dummies(df['sales_channel'],drop_first = False)\n",
    "df = pd.concat([df.drop(labels=['sales_channel'],axis=1),encoded_column],axis=1)\n",
    "\n",
    "encoded_column2 = pd.get_dummies(df['trip_type'],drop_first = False)\n",
    "df = pd.concat([df.drop(labels=['trip_type'],axis=1),encoded_column2],axis=1)\n",
    "\n",
    "df.head()"
   ]
  },
  {
   "cell_type": "markdown",
   "id": "5b357389",
   "metadata": {},
   "source": [
    "### Scaling variables\n",
    "\n",
    "All the variables have different scales, hence we normalise the features using standard scalar."
   ]
  },
  {
   "cell_type": "code",
   "execution_count": 13,
   "id": "9a895a66",
   "metadata": {},
   "outputs": [
    {
     "data": {
      "text/html": [
       "<div>\n",
       "<style scoped>\n",
       "    .dataframe tbody tr th:only-of-type {\n",
       "        vertical-align: middle;\n",
       "    }\n",
       "\n",
       "    .dataframe tbody tr th {\n",
       "        vertical-align: top;\n",
       "    }\n",
       "\n",
       "    .dataframe thead th {\n",
       "        text-align: right;\n",
       "    }\n",
       "</style>\n",
       "<table border=\"1\" class=\"dataframe\">\n",
       "  <thead>\n",
       "    <tr style=\"text-align: right;\">\n",
       "      <th></th>\n",
       "      <th>num_passengers</th>\n",
       "      <th>purchase_lead</th>\n",
       "      <th>length_of_stay</th>\n",
       "      <th>flight_hour</th>\n",
       "      <th>flight_day</th>\n",
       "      <th>route</th>\n",
       "      <th>booking_origin</th>\n",
       "      <th>wants_extra_baggage</th>\n",
       "      <th>wants_preferred_seat</th>\n",
       "      <th>wants_in_flight_meals</th>\n",
       "      <th>flight_duration</th>\n",
       "      <th>Internet</th>\n",
       "      <th>Mobile</th>\n",
       "      <th>CircleTrip</th>\n",
       "      <th>OneWay</th>\n",
       "      <th>RoundTrip</th>\n",
       "      <th>booking_complete</th>\n",
       "    </tr>\n",
       "  </thead>\n",
       "  <tbody>\n",
       "    <tr>\n",
       "      <th>0</th>\n",
       "      <td>0.400684</td>\n",
       "      <td>1.957530</td>\n",
       "      <td>-0.119353</td>\n",
       "      <td>-0.381764</td>\n",
       "      <td>1.096754</td>\n",
       "      <td>-0.66267</td>\n",
       "      <td>-0.919966</td>\n",
       "      <td>0.703747</td>\n",
       "      <td>-0.649919</td>\n",
       "      <td>-0.863497</td>\n",
       "      <td>-1.174175</td>\n",
       "      <td>0.355785</td>\n",
       "      <td>-0.355785</td>\n",
       "      <td>-0.048222</td>\n",
       "      <td>-0.08832</td>\n",
       "      <td>0.100808</td>\n",
       "      <td>0</td>\n",
       "    </tr>\n",
       "    <tr>\n",
       "      <th>1</th>\n",
       "      <td>-0.579559</td>\n",
       "      <td>0.299164</td>\n",
       "      <td>-0.089844</td>\n",
       "      <td>-1.120780</td>\n",
       "      <td>1.096754</td>\n",
       "      <td>-0.66267</td>\n",
       "      <td>-0.919966</td>\n",
       "      <td>-1.420965</td>\n",
       "      <td>-0.649919</td>\n",
       "      <td>-0.863497</td>\n",
       "      <td>-1.174175</td>\n",
       "      <td>0.355785</td>\n",
       "      <td>-0.355785</td>\n",
       "      <td>-0.048222</td>\n",
       "      <td>-0.08832</td>\n",
       "      <td>0.100808</td>\n",
       "      <td>0</td>\n",
       "    </tr>\n",
       "    <tr>\n",
       "      <th>2</th>\n",
       "      <td>0.400684</td>\n",
       "      <td>1.747470</td>\n",
       "      <td>-0.030824</td>\n",
       "      <td>1.465775</td>\n",
       "      <td>-0.408687</td>\n",
       "      <td>-0.66267</td>\n",
       "      <td>-0.430523</td>\n",
       "      <td>0.703747</td>\n",
       "      <td>1.538654</td>\n",
       "      <td>-0.863497</td>\n",
       "      <td>-1.174175</td>\n",
       "      <td>0.355785</td>\n",
       "      <td>-0.355785</td>\n",
       "      <td>-0.048222</td>\n",
       "      <td>-0.08832</td>\n",
       "      <td>0.100808</td>\n",
       "      <td>0</td>\n",
       "    </tr>\n",
       "    <tr>\n",
       "      <th>3</th>\n",
       "      <td>-0.579559</td>\n",
       "      <td>0.122272</td>\n",
       "      <td>0.234761</td>\n",
       "      <td>-0.936026</td>\n",
       "      <td>1.096754</td>\n",
       "      <td>-0.66267</td>\n",
       "      <td>-0.919966</td>\n",
       "      <td>-1.420965</td>\n",
       "      <td>-0.649919</td>\n",
       "      <td>1.158082</td>\n",
       "      <td>-1.174175</td>\n",
       "      <td>0.355785</td>\n",
       "      <td>-0.355785</td>\n",
       "      <td>-0.048222</td>\n",
       "      <td>-0.08832</td>\n",
       "      <td>0.100808</td>\n",
       "      <td>0</td>\n",
       "    </tr>\n",
       "    <tr>\n",
       "      <th>4</th>\n",
       "      <td>0.400684</td>\n",
       "      <td>-0.187290</td>\n",
       "      <td>-0.030824</td>\n",
       "      <td>1.096267</td>\n",
       "      <td>-0.408687</td>\n",
       "      <td>-0.66267</td>\n",
       "      <td>-0.430523</td>\n",
       "      <td>0.703747</td>\n",
       "      <td>-0.649919</td>\n",
       "      <td>1.158082</td>\n",
       "      <td>-1.174175</td>\n",
       "      <td>0.355785</td>\n",
       "      <td>-0.355785</td>\n",
       "      <td>-0.048222</td>\n",
       "      <td>-0.08832</td>\n",
       "      <td>0.100808</td>\n",
       "      <td>0</td>\n",
       "    </tr>\n",
       "  </tbody>\n",
       "</table>\n",
       "</div>"
      ],
      "text/plain": [
       "   num_passengers  purchase_lead  length_of_stay  flight_hour  flight_day  \\\n",
       "0        0.400684       1.957530       -0.119353    -0.381764    1.096754   \n",
       "1       -0.579559       0.299164       -0.089844    -1.120780    1.096754   \n",
       "2        0.400684       1.747470       -0.030824     1.465775   -0.408687   \n",
       "3       -0.579559       0.122272        0.234761    -0.936026    1.096754   \n",
       "4        0.400684      -0.187290       -0.030824     1.096267   -0.408687   \n",
       "\n",
       "     route  booking_origin  wants_extra_baggage  wants_preferred_seat  \\\n",
       "0 -0.66267       -0.919966             0.703747             -0.649919   \n",
       "1 -0.66267       -0.919966            -1.420965             -0.649919   \n",
       "2 -0.66267       -0.430523             0.703747              1.538654   \n",
       "3 -0.66267       -0.919966            -1.420965             -0.649919   \n",
       "4 -0.66267       -0.430523             0.703747             -0.649919   \n",
       "\n",
       "   wants_in_flight_meals  flight_duration  Internet    Mobile  CircleTrip  \\\n",
       "0              -0.863497        -1.174175  0.355785 -0.355785   -0.048222   \n",
       "1              -0.863497        -1.174175  0.355785 -0.355785   -0.048222   \n",
       "2              -0.863497        -1.174175  0.355785 -0.355785   -0.048222   \n",
       "3               1.158082        -1.174175  0.355785 -0.355785   -0.048222   \n",
       "4               1.158082        -1.174175  0.355785 -0.355785   -0.048222   \n",
       "\n",
       "    OneWay  RoundTrip  booking_complete  \n",
       "0 -0.08832   0.100808                 0  \n",
       "1 -0.08832   0.100808                 0  \n",
       "2 -0.08832   0.100808                 0  \n",
       "3 -0.08832   0.100808                 0  \n",
       "4 -0.08832   0.100808                 0  "
      ]
     },
     "execution_count": 13,
     "metadata": {},
     "output_type": "execute_result"
    }
   ],
   "source": [
    "scaler = StandardScaler()\n",
    "# take the target variable out before scaling\n",
    "df_target = df[\"booking_complete\"].values \n",
    "df_predictors = df.drop(\"booking_complete\", axis=1)\n",
    "# fit_transform returns a NumPy array, so we need to put it back\n",
    "# into a Pandas dataframe\n",
    "scaled_vals = scaler.fit_transform(df_predictors)\n",
    "df = pd.DataFrame(scaled_vals, columns=df_predictors.columns)\n",
    "# put the non-scaled target back in\n",
    "df['booking_complete'] = df_target\n",
    "pd.options.display.max_columns = 200 # inspect the data\n",
    "\n",
    "df.head()"
   ]
  },
  {
   "cell_type": "markdown",
   "id": "7d5d5e57",
   "metadata": {},
   "source": [
    "**Target Variable** - booking_complete"
   ]
  },
  {
   "cell_type": "code",
   "execution_count": 14,
   "id": "b0bea8bd",
   "metadata": {},
   "outputs": [
    {
     "name": "stdout",
     "output_type": "stream",
     "text": [
      "Dataset Size :  (50000, 16) (50000,)\n"
     ]
    }
   ],
   "source": [
    "from sklearn.model_selection import GridSearchCV\n",
    "# drop labels for training set, but keep all others\n",
    "\n",
    "trainset = df.drop(\"booking_complete\", axis=1) \n",
    "testset = df[\"booking_complete\"].copy() \n",
    "print(\"Dataset Size : \", trainset.shape, testset.shape)"
   ]
  },
  {
   "cell_type": "markdown",
   "id": "d71001cd",
   "metadata": {},
   "source": [
    "### Cross Validation performance plot\n",
    "\n",
    "We can plot the cross-validation performance of models by passing it whole dataset.Scikit-plot provides a method named plot_learning_curve() as a part of the estimators module which accepts estimator, X, Y, cross-validation info, and scoring metric for plotting performance of cross-validation on the dataset."
   ]
  },
  {
   "cell_type": "code",
   "execution_count": 15,
   "id": "31a3faf3",
   "metadata": {},
   "outputs": [
    {
     "data": {
      "image/png": "[encoded data removed]",
      "text/plain": [
       "<Figure size 432x288 with 1 Axes>"
      ]
     },
     "metadata": {
      "needs_background": "light"
     },
     "output_type": "display_data"
    }
   ],
   "source": [
    "skplt.estimators.plot_learning_curve(LogisticRegression(), trainset, testset,\n",
    "                                     cv=7, shuffle=True, scoring=\"average_precision\",\n",
    "                                     n_jobs=-1, figsize=(6,4), title_fontsize=\"large\", text_fontsize=\"large\",\n",
    "                                     title=\"Learning Curve\");\n"
   ]
  },
  {
   "cell_type": "markdown",
   "id": "7d4ba4bd",
   "metadata": {},
   "source": [
    "So, on this curve we can see both the training and the cross-validation score. Both the scores don't change much, but the difference between them is still low."
   ]
  },
  {
   "cell_type": "markdown",
   "id": "7b3753ac",
   "metadata": {},
   "source": [
    "The train-test split procedure is used to estimate the performance of machine learning algorithms when they are used to make predictions on data not used to train the model. Over here the target variable is booking_complete."
   ]
  },
  {
   "cell_type": "code",
   "execution_count": 16,
   "id": "4dc2306d",
   "metadata": {},
   "outputs": [],
   "source": [
    "Xtrain, Xtest, ytrain, ytest = train_test_split(trainset,testset,train_size=0.8,stratify=testset,random_state=1)"
   ]
  },
  {
   "cell_type": "code",
   "execution_count": 17,
   "id": "4a3880f2",
   "metadata": {},
   "outputs": [
    {
     "data": {
      "text/plain": [
       "0.8485"
      ]
     },
     "execution_count": 17,
     "metadata": {},
     "output_type": "execute_result"
    }
   ],
   "source": [
    "lr_classif = LogisticRegression()\n",
    "lr_classif.fit(Xtrain, ytrain)\n",
    "lr_classif.score(Xtest, ytest)"
   ]
  },
  {
   "cell_type": "markdown",
   "id": "cd8da791",
   "metadata": {},
   "source": [
    "We got the score more than 0.8 which is a very good score, suggesting that our model is performing well."
   ]
  },
  {
   "cell_type": "code",
   "execution_count": 18,
   "id": "99c829e7",
   "metadata": {},
   "outputs": [
    {
     "data": {
      "text/html": [
       "<div>\n",
       "<style scoped>\n",
       "    .dataframe tbody tr th:only-of-type {\n",
       "        vertical-align: middle;\n",
       "    }\n",
       "\n",
       "    .dataframe tbody tr th {\n",
       "        vertical-align: top;\n",
       "    }\n",
       "\n",
       "    .dataframe thead th {\n",
       "        text-align: right;\n",
       "    }\n",
       "</style>\n",
       "<table border=\"1\" class=\"dataframe\">\n",
       "  <thead>\n",
       "    <tr style=\"text-align: right;\">\n",
       "      <th></th>\n",
       "      <th>num_passengers</th>\n",
       "      <th>purchase_lead</th>\n",
       "      <th>length_of_stay</th>\n",
       "      <th>flight_hour</th>\n",
       "      <th>flight_day</th>\n",
       "      <th>route</th>\n",
       "      <th>booking_origin</th>\n",
       "      <th>wants_extra_baggage</th>\n",
       "      <th>wants_preferred_seat</th>\n",
       "      <th>wants_in_flight_meals</th>\n",
       "      <th>flight_duration</th>\n",
       "      <th>Internet</th>\n",
       "      <th>Mobile</th>\n",
       "      <th>CircleTrip</th>\n",
       "      <th>OneWay</th>\n",
       "      <th>RoundTrip</th>\n",
       "    </tr>\n",
       "  </thead>\n",
       "  <tbody>\n",
       "    <tr>\n",
       "      <th>46865</th>\n",
       "      <td>1.380928</td>\n",
       "      <td>1.736415</td>\n",
       "      <td>-0.502977</td>\n",
       "      <td>1.281021</td>\n",
       "      <td>1.096754</td>\n",
       "      <td>0.647722</td>\n",
       "      <td>1.799317</td>\n",
       "      <td>0.703747</td>\n",
       "      <td>-0.649919</td>\n",
       "      <td>-0.863497</td>\n",
       "      <td>0.195370</td>\n",
       "      <td>0.355785</td>\n",
       "      <td>-0.355785</td>\n",
       "      <td>-0.048222</td>\n",
       "      <td>-0.08832</td>\n",
       "      <td>0.100808</td>\n",
       "    </tr>\n",
       "    <tr>\n",
       "      <th>28105</th>\n",
       "      <td>0.400684</td>\n",
       "      <td>-0.706912</td>\n",
       "      <td>-0.591506</td>\n",
       "      <td>0.726759</td>\n",
       "      <td>-0.408687</td>\n",
       "      <td>-0.327539</td>\n",
       "      <td>-0.447294</td>\n",
       "      <td>-1.420965</td>\n",
       "      <td>1.538654</td>\n",
       "      <td>1.158082</td>\n",
       "      <td>-0.439297</td>\n",
       "      <td>0.355785</td>\n",
       "      <td>-0.355785</td>\n",
       "      <td>-0.048222</td>\n",
       "      <td>-0.08832</td>\n",
       "      <td>0.100808</td>\n",
       "    </tr>\n",
       "    <tr>\n",
       "      <th>39219</th>\n",
       "      <td>0.400684</td>\n",
       "      <td>-0.817469</td>\n",
       "      <td>-0.532487</td>\n",
       "      <td>0.357251</td>\n",
       "      <td>1.598567</td>\n",
       "      <td>1.491933</td>\n",
       "      <td>0.511434</td>\n",
       "      <td>0.703747</td>\n",
       "      <td>-0.649919</td>\n",
       "      <td>-0.863497</td>\n",
       "      <td>-0.439297</td>\n",
       "      <td>0.355785</td>\n",
       "      <td>-0.355785</td>\n",
       "      <td>-0.048222</td>\n",
       "      <td>-0.08832</td>\n",
       "      <td>0.100808</td>\n",
       "    </tr>\n",
       "    <tr>\n",
       "      <th>9010</th>\n",
       "      <td>-0.579559</td>\n",
       "      <td>0.066993</td>\n",
       "      <td>-0.178372</td>\n",
       "      <td>0.911513</td>\n",
       "      <td>0.093127</td>\n",
       "      <td>-0.592744</td>\n",
       "      <td>-0.919236</td>\n",
       "      <td>-1.420965</td>\n",
       "      <td>-0.649919</td>\n",
       "      <td>-0.863497</td>\n",
       "      <td>1.037139</td>\n",
       "      <td>-2.810688</td>\n",
       "      <td>2.810688</td>\n",
       "      <td>-0.048222</td>\n",
       "      <td>-0.08832</td>\n",
       "      <td>0.100808</td>\n",
       "    </tr>\n",
       "    <tr>\n",
       "      <th>48706</th>\n",
       "      <td>-0.579559</td>\n",
       "      <td>-0.441573</td>\n",
       "      <td>-0.502977</td>\n",
       "      <td>0.911513</td>\n",
       "      <td>-1.412314</td>\n",
       "      <td>0.418708</td>\n",
       "      <td>0.511434</td>\n",
       "      <td>-1.420965</td>\n",
       "      <td>1.538654</td>\n",
       "      <td>1.158082</td>\n",
       "      <td>-0.572911</td>\n",
       "      <td>0.355785</td>\n",
       "      <td>-0.355785</td>\n",
       "      <td>-0.048222</td>\n",
       "      <td>-0.08832</td>\n",
       "      <td>0.100808</td>\n",
       "    </tr>\n",
       "  </tbody>\n",
       "</table>\n",
       "</div>"
      ],
      "text/plain": [
       "       num_passengers  purchase_lead  length_of_stay  flight_hour  flight_day  \\\n",
       "46865        1.380928       1.736415       -0.502977     1.281021    1.096754   \n",
       "28105        0.400684      -0.706912       -0.591506     0.726759   -0.408687   \n",
       "39219        0.400684      -0.817469       -0.532487     0.357251    1.598567   \n",
       "9010        -0.579559       0.066993       -0.178372     0.911513    0.093127   \n",
       "48706       -0.579559      -0.441573       -0.502977     0.911513   -1.412314   \n",
       "\n",
       "          route  booking_origin  wants_extra_baggage  wants_preferred_seat  \\\n",
       "46865  0.647722        1.799317             0.703747             -0.649919   \n",
       "28105 -0.327539       -0.447294            -1.420965              1.538654   \n",
       "39219  1.491933        0.511434             0.703747             -0.649919   \n",
       "9010  -0.592744       -0.919236            -1.420965             -0.649919   \n",
       "48706  0.418708        0.511434            -1.420965              1.538654   \n",
       "\n",
       "       wants_in_flight_meals  flight_duration  Internet    Mobile  CircleTrip  \\\n",
       "46865              -0.863497         0.195370  0.355785 -0.355785   -0.048222   \n",
       "28105               1.158082        -0.439297  0.355785 -0.355785   -0.048222   \n",
       "39219              -0.863497        -0.439297  0.355785 -0.355785   -0.048222   \n",
       "9010               -0.863497         1.037139 -2.810688  2.810688   -0.048222   \n",
       "48706               1.158082        -0.572911  0.355785 -0.355785   -0.048222   \n",
       "\n",
       "        OneWay  RoundTrip  \n",
       "46865 -0.08832   0.100808  \n",
       "28105 -0.08832   0.100808  \n",
       "39219 -0.08832   0.100808  \n",
       "9010  -0.08832   0.100808  \n",
       "48706 -0.08832   0.100808  "
      ]
     },
     "execution_count": 18,
     "metadata": {},
     "output_type": "execute_result"
    }
   ],
   "source": [
    "Xtrain.head()"
   ]
  },
  {
   "cell_type": "code",
   "execution_count": 19,
   "id": "0de67e51",
   "metadata": {},
   "outputs": [
    {
     "data": {
      "text/plain": [
       "46865    0\n",
       "28105    0\n",
       "39219    0\n",
       "9010     0\n",
       "48706    1\n",
       "Name: booking_complete, dtype: int64"
      ]
     },
     "execution_count": 19,
     "metadata": {},
     "output_type": "execute_result"
    }
   ],
   "source": [
    "ytrain.head()"
   ]
  },
  {
   "cell_type": "code",
   "execution_count": 20,
   "id": "33fb99ba",
   "metadata": {},
   "outputs": [
    {
     "data": {
      "text/plain": [
       "0    42522\n",
       "1     7478\n",
       "Name: booking_complete, dtype: int64"
      ]
     },
     "execution_count": 20,
     "metadata": {},
     "output_type": "execute_result"
    }
   ],
   "source": [
    "df.booking_complete.value_counts()"
   ]
  },
  {
   "cell_type": "markdown",
   "id": "f41ebf36",
   "metadata": {},
   "source": [
    "Our target variable is imbalanced due to which the model might consider only the majority class and ignore the minority completely. Hence we use the method of random oversampling which creates duplicates of the minority variables.\n",
    "Here our majority is **'0- Not complete'**."
   ]
  },
  {
   "cell_type": "code",
   "execution_count": 21,
   "id": "133b532e",
   "metadata": {},
   "outputs": [],
   "source": [
    "from imblearn.over_sampling import RandomOverSampler\n",
    "over = RandomOverSampler(sampling_strategy='minority') \n",
    "Xtrain, ytrain = over.fit_resample(Xtrain,ytrain)"
   ]
  },
  {
   "cell_type": "markdown",
   "id": "6c168760",
   "metadata": {},
   "source": [
    "### Decision Tree\n",
    "\n",
    "Decision Tree is a Supervised Machine Learning Algorithm that makes decisions based on a set of rules, similar to how people do. We use the DecisionTreeClassifier to fit the classification model."
   ]
  },
  {
   "cell_type": "code",
   "execution_count": 22,
   "id": "cd6cdc2b",
   "metadata": {},
   "outputs": [
    {
     "name": "stdout",
     "output_type": "stream",
     "text": [
      "Took 4.485980749130249 seconds\n"
     ]
    }
   ],
   "source": [
    "import time\n",
    "from sklearn.tree import DecisionTreeClassifier \n",
    "dtc = DecisionTreeClassifier(random_state=7)\n",
    "# specify the hyperparameters and their values\n",
    "param_grid = { \n",
    "    'max_depth':[3,7,10,15,20,25,30,35,40,45,50]\n",
    "}\n",
    "# max_depth: Maximum number of levels in tree\n",
    "grid_search = GridSearchCV(dtc, param_grid, cv=5, \n",
    "                           scoring='f1_macro',\n",
    "                           return_train_score=True,\n",
    "                           n_jobs = -1)\n",
    "#Noting the time taken for the model\n",
    "\n",
    "start = time.time() \n",
    "grid_search.fit(Xtrain, ytrain) \n",
    "end = time.time() - start \n",
    "print(f\"Took {end} seconds\")"
   ]
  },
  {
   "cell_type": "code",
   "execution_count": 23,
   "id": "ce4bf140",
   "metadata": {},
   "outputs": [
    {
     "data": {
      "text/plain": [
       "DecisionTreeClassifier(max_depth=35, random_state=7)"
      ]
     },
     "execution_count": 23,
     "metadata": {},
     "output_type": "execute_result"
    }
   ],
   "source": [
    "grid_search.best_estimator_"
   ]
  },
  {
   "cell_type": "code",
   "execution_count": 24,
   "id": "6c021f7e",
   "metadata": {},
   "outputs": [
    {
     "data": {
      "text/plain": [
       "0.92919030458943"
      ]
     },
     "execution_count": 24,
     "metadata": {},
     "output_type": "execute_result"
    }
   ],
   "source": [
    "grid_search.best_score_"
   ]
  },
  {
   "cell_type": "code",
   "execution_count": 25,
   "id": "4f427737",
   "metadata": {},
   "outputs": [
    {
     "data": {
      "text/plain": [
       "7"
      ]
     },
     "execution_count": 25,
     "metadata": {},
     "output_type": "execute_result"
    }
   ],
   "source": [
    "best_model_index = grid_search.cv_results_[\"rank_test_score\"].tolist().index(1)\n",
    "best_model_index"
   ]
  },
  {
   "cell_type": "markdown",
   "id": "e9c42ca6",
   "metadata": {},
   "source": [
    "We can see that the maximum depth of the decision tree is 35 and the best score obtaines is 0.9287. But we can use a better model which is a Random Forest that consists of many decision trees."
   ]
  },
  {
   "cell_type": "code",
   "execution_count": 26,
   "id": "b4607b0a",
   "metadata": {},
   "outputs": [
    {
     "data": {
      "text/plain": [
       "['models/dtc-clf.joblib']"
      ]
     },
     "execution_count": 26,
     "metadata": {},
     "output_type": "execute_result"
    }
   ],
   "source": [
    "import os\n",
    "from joblib import dump\n",
    "# create a folder where all trained models will be kept\n",
    "if not os.path.exists(\"models\"): os.makedirs(\"models\")\n",
    "dump(grid_search.best_estimator_, 'models/dtc-clf.joblib')"
   ]
  },
  {
   "cell_type": "markdown",
   "id": "4e94bccc",
   "metadata": {},
   "source": [
    "### Random Forest"
   ]
  },
  {
   "cell_type": "code",
   "execution_count": 27,
   "id": "0f6c05e3",
   "metadata": {},
   "outputs": [
    {
     "name": "stdout",
     "output_type": "stream",
     "text": [
      "Took 207.79269814491272 seconds\n"
     ]
    }
   ],
   "source": [
    "rf = RandomForestClassifier(random_state=7)\n",
    "\n",
    "# specify the hyperparameters and their values\n",
    "param_grid = {\n",
    "'n_estimators': [300,400], 'max_depth': [15,20,25]\n",
    "}\n",
    "# we'll use 5-fold cross-validation\n",
    "grid_search = GridSearchCV(rf, param_grid, cv=5, scoring='f1_macro',\n",
    "return_train_score=True, n_jobs = -1)\n",
    "\n",
    "start = time.time() \n",
    "grid_search.fit(Xtrain, ytrain) \n",
    "end = time.time() - start \n",
    "print(f\"Took {end} seconds\")"
   ]
  },
  {
   "cell_type": "code",
   "execution_count": 28,
   "id": "2fafd383",
   "metadata": {},
   "outputs": [
    {
     "data": {
      "text/plain": [
       "RandomForestClassifier(max_depth=25, n_estimators=300, random_state=7)"
      ]
     },
     "execution_count": 28,
     "metadata": {},
     "output_type": "execute_result"
    }
   ],
   "source": [
    "grid_search.best_estimator_"
   ]
  },
  {
   "cell_type": "code",
   "execution_count": 29,
   "id": "bae4bd14",
   "metadata": {},
   "outputs": [
    {
     "data": {
      "text/plain": [
       "0.9517731115403525"
      ]
     },
     "execution_count": 29,
     "metadata": {},
     "output_type": "execute_result"
    }
   ],
   "source": [
    "grid_search.best_score_"
   ]
  },
  {
   "cell_type": "code",
   "execution_count": 30,
   "id": "fc7dc8f2",
   "metadata": {},
   "outputs": [
    {
     "data": {
      "text/plain": [
       "4"
      ]
     },
     "execution_count": 30,
     "metadata": {},
     "output_type": "execute_result"
    }
   ],
   "source": [
    "best_model_index = grid_search.cv_results_[\"rank_test_score\"].tolist().index(1) \n",
    "best_model_index"
   ]
  },
  {
   "cell_type": "markdown",
   "id": "0f3906d5",
   "metadata": {},
   "source": [
    "We can see that the maximum depth of the random forest is 25 and the estimators are 300 and the best score obtained i.e. the f-score is 0.9518."
   ]
  },
  {
   "cell_type": "code",
   "execution_count": 31,
   "id": "2550cc77",
   "metadata": {},
   "outputs": [
    {
     "name": "stdout",
     "output_type": "stream",
     "text": [
      "Random Forest\n",
      "Precision: 0.6651222651222651\n",
      "Recall: 0.629086783948164\n",
      "F-score: 0.6428928284436038\n"
     ]
    }
   ],
   "source": [
    "from joblib import load\n",
    "best_rf = load(\"models/rf-clf.joblib\")\n",
    "from sklearn.metrics import precision_recall_fscore_support \n",
    "yhat = best_rf.predict(Xtest)\n",
    "p, r ,f ,s = precision_recall_fscore_support(ytest, yhat, average =\"macro\") \n",
    "print(\"Random Forest\")\n",
    "print(f\"Precision: {p}\")\n",
    "print(f\"Recall: {r}\")\n",
    "print(f\"F-score: {f}\")"
   ]
  },
  {
   "cell_type": "markdown",
   "id": "ebda0a25",
   "metadata": {},
   "source": [
    "We can see that our model is overfitting as it is performing very well on the training data and low on testing. This model is able to predict with an accuracy of 64%"
   ]
  },
  {
   "cell_type": "markdown",
   "id": "9fa4f334",
   "metadata": {},
   "source": [
    "### Feature Importance\n",
    "\n",
    "Feature importance scores simply represent the “importance” of each feature. A higher score means that the specific feature will have a larger effect on the model that is being used to predict 'booking_complete'."
   ]
  },
  {
   "cell_type": "code",
   "execution_count": 32,
   "id": "b37aa837",
   "metadata": {},
   "outputs": [
    {
     "data": {
      "image/png": "[encoded data removed]",
      "text/plain": [
       "<Figure size 1080x432 with 1 Axes>"
      ]
     },
     "metadata": {
      "needs_background": "light"
     },
     "output_type": "display_data"
    }
   ],
   "source": [
    "fig = plt.figure(figsize=(15,6))\n",
    "\n",
    "ax1 = fig.add_subplot()\n",
    "skplt.estimators.plot_feature_importances(best_rf, feature_names=Xtrain.columns,\n",
    "                                         title=\"Feature Importance\",\n",
    "                                         x_tick_rotation=90, order=\"ascending\",\n",
    "                                         ax=ax1);\n"
   ]
  },
  {
   "cell_type": "markdown",
   "id": "fbf8be59",
   "metadata": {},
   "source": [
    "We can see that the trip type is not an important feature while prediting the booking behaviour but the route is the most important feature."
   ]
  },
  {
   "cell_type": "code",
   "execution_count": 33,
   "id": "b7f0032a",
   "metadata": {},
   "outputs": [
    {
     "data": {
      "text/plain": [
       "['models/rf-clf.joblib']"
      ]
     },
     "execution_count": 33,
     "metadata": {},
     "output_type": "execute_result"
    }
   ],
   "source": [
    "import os\n",
    "from joblib import dump\n",
    "# create a folder where all trained models will be kept\n",
    "if not os.path.exists(\"models\"): os.makedirs(\"models\")\n",
    "dump(grid_search.best_estimator_, 'models/rf-clf.joblib')"
   ]
  },
  {
   "cell_type": "markdown",
   "id": "5eed0cbc",
   "metadata": {},
   "source": [
    "### Neural Network\n",
    "\n",
    "We use the method of Neural Network which tries to recognise the patterns as the human brain does with the help of neurons. We use the Multi-Layer Perceptron for the computing it."
   ]
  },
  {
   "cell_type": "code",
   "execution_count": 34,
   "id": "60275382",
   "metadata": {},
   "outputs": [
    {
     "name": "stdout",
     "output_type": "stream",
     "text": [
      "Took 829.2239239215851 seconds\n"
     ]
    },
    {
     "name": "stderr",
     "output_type": "stream",
     "text": [
      "/Users/prachideshkar/opt/anaconda3/lib/python3.8/site-packages/sklearn/neural_network/_multilayer_perceptron.py:692: ConvergenceWarning: Stochastic Optimizer: Maximum iterations (300) reached and the optimization hasn't converged yet.\n",
      "  warnings.warn(\n"
     ]
    }
   ],
   "source": [
    "from sklearn.neural_network import MLPClassifier \n",
    "nn = MLPClassifier(random_state=7, max_iter = 300)\n",
    "# specify the hyperparameters and their values\n",
    "param_grid = { \n",
    "    'hidden_layer_sizes':[(50,2),(75,),(100,)], \n",
    "    'activation':['identity','logistic','tanh','relu']\n",
    "}\n",
    "grid_search = GridSearchCV(nn,param_grid,cv=5, \n",
    "                           scoring='f1_macro',\n",
    "                           return_train_score=True, \n",
    "                           n_jobs = -1)\n",
    "start = time.time() \n",
    "grid_search.fit(Xtrain, ytrain) \n",
    "end = time.time() - start \n",
    "print(f\"Took {end} seconds\")"
   ]
  },
  {
   "cell_type": "code",
   "execution_count": 35,
   "id": "591c3959",
   "metadata": {},
   "outputs": [
    {
     "data": {
      "text/plain": [
       "MLPClassifier(activation='tanh', max_iter=300, random_state=7)"
      ]
     },
     "execution_count": 35,
     "metadata": {},
     "output_type": "execute_result"
    }
   ],
   "source": [
    "grid_search.best_estimator_"
   ]
  },
  {
   "cell_type": "code",
   "execution_count": 36,
   "id": "aab8065a",
   "metadata": {},
   "outputs": [
    {
     "data": {
      "text/plain": [
       "0.7604563170544061"
      ]
     },
     "execution_count": 36,
     "metadata": {},
     "output_type": "execute_result"
    }
   ],
   "source": [
    "grid_search.best_score_"
   ]
  },
  {
   "cell_type": "code",
   "execution_count": 37,
   "id": "1a4f7812",
   "metadata": {},
   "outputs": [
    {
     "data": {
      "text/plain": [
       "['models/nn-clf.joblib']"
      ]
     },
     "execution_count": 37,
     "metadata": {},
     "output_type": "execute_result"
    }
   ],
   "source": [
    "import os\n",
    "from joblib import dump\n",
    "# create a folder where all trained models will be kept\n",
    "if not os.path.exists(\"models\"): \n",
    "    os.makedirs(\"models\")\n",
    "dump(grid_search.best_estimator_, 'models/nn-clf.joblib')"
   ]
  },
  {
   "cell_type": "code",
   "execution_count": 38,
   "id": "01766236",
   "metadata": {},
   "outputs": [
    {
     "name": "stdout",
     "output_type": "stream",
     "text": [
      "Neural Network\n",
      "Precision: 0.6143890316519343\n",
      "Recall: 0.7012472268476364\n",
      "F-score: 0.6147230352081328\n"
     ]
    }
   ],
   "source": [
    "best_nn = load(\"models/nn-clf.joblib\")\n",
    "from sklearn.metrics import precision_recall_fscore_support \n",
    "yhat = best_nn.predict(Xtest)\n",
    "\n",
    "p, r ,f ,s = precision_recall_fscore_support(ytest, yhat, average =\"macro\") \n",
    "print(\"Neural Network\")\n",
    "print(f\"Precision: {p}\")\n",
    "print(f\"Recall: {r}\")\n",
    "print(f\"F-score: {f}\")"
   ]
  },
  {
   "cell_type": "markdown",
   "id": "013d0c30",
   "metadata": {},
   "source": [
    "We can see that the best activation function for the model is tanh. It is slightly overfitting but it is less than 1% so neural network is able to predict with an accuracy of 61%."
   ]
  },
  {
   "cell_type": "markdown",
   "id": "1bd6673d",
   "metadata": {},
   "source": [
    "### Confusion Matrix\n",
    "\n",
    "The confusion matrix let us analyze how our classification algorithm is doing for various classes of data."
   ]
  },
  {
   "cell_type": "code",
   "execution_count": 39,
   "id": "28cbafc4",
   "metadata": {},
   "outputs": [
    {
     "data": {
      "image/png": "[encoded data removed]",
      "text/plain": [
       "<Figure size 432x288 with 2 Axes>"
      ]
     },
     "metadata": {
      "needs_background": "light"
     },
     "output_type": "display_data"
    }
   ],
   "source": [
    "from sklearn.metrics import ConfusionMatrixDisplay \n",
    "ax = ConfusionMatrixDisplay.from_predictions(ytest, yhat, labels = best_nn.classes_,\n",
    "xticks_rotation =\"vertical\", normalize = \"true\",cmap = 'OrRd')"
   ]
  },
  {
   "cell_type": "markdown",
   "id": "3f738dd7",
   "metadata": {},
   "source": [
    "The model is able to predict completed bookings with a precision of **67%** and incomplete bookings with a precision of **73%**"
   ]
  },
  {
   "cell_type": "markdown",
   "id": "218c0759",
   "metadata": {},
   "source": [
    "## Conclusion\n",
    "\n",
    "1) Bookings that are not yet complete outnumber those that are.\n",
    "\n",
    "2) The learning curve shows an average fit and has less bias.\n",
    "\n",
    "3) The number of days between the travel date and the booking date impacts customer buying behaviour the most, whereas the trip type does not have any influence.\n",
    "\n",
    "4) The model is able to predict completed bookings with a precision of 67% and incomplete bookings with a precision of 73%."
   ]
  }
 ],
 "metadata": {
  "kernelspec": {
   "display_name": "Python 3",
   "language": "python",
   "name": "python3"
  },
  "language_info": {
   "codemirror_mode": {
    "name": "ipython",
    "version": 3
   },
   "file_extension": ".py",
   "mimetype": "text/x-python",
   "name": "python",
   "nbconvert_exporter": "python",
   "pygments_lexer": "ipython3",
   "version": "3.8.8"
  }
 },
 "nbformat": 4,
 "nbformat_minor": 5
}
